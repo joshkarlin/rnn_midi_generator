{
 "cells": [
  {
   "cell_type": "markdown",
   "metadata": {
    "toc": true
   },
   "source": [
    "<h1>Table of Contents<span class=\"tocSkip\"></span></h1>\n",
    "<div class=\"toc\"><ul class=\"toc-item\"><li><span><a href=\"#Specify-imports-and-paths\" data-toc-modified-id=\"Specify-imports-and-paths-1\"><span class=\"toc-item-num\">1&nbsp;&nbsp;</span>Specify imports and paths</a></span></li><li><span><a href=\"#Gather-training-data\" data-toc-modified-id=\"Gather-training-data-2\"><span class=\"toc-item-num\">2&nbsp;&nbsp;</span>Gather training data</a></span><ul class=\"toc-item\"><li><span><a href=\"#Define-MIDI-parsing-functions\" data-toc-modified-id=\"Define-MIDI-parsing-functions-2.1\"><span class=\"toc-item-num\">2.1&nbsp;&nbsp;</span>Define MIDI parsing functions</a></span></li><li><span><a href=\"#Find-and-parse-midi-files\" data-toc-modified-id=\"Find-and-parse-midi-files-2.2\"><span class=\"toc-item-num\">2.2&nbsp;&nbsp;</span>Find and parse midi files</a></span></li><li><span><a href=\"#Pickle-notes\" data-toc-modified-id=\"Pickle-notes-2.3\"><span class=\"toc-item-num\">2.3&nbsp;&nbsp;</span>Pickle notes</a></span></li></ul></li><li><span><a href=\"#Prepare-training-data\" data-toc-modified-id=\"Prepare-training-data-3\"><span class=\"toc-item-num\">3&nbsp;&nbsp;</span>Prepare training data</a></span><ul class=\"toc-item\"><li><span><a href=\"#Define-data-preparation-functions\" data-toc-modified-id=\"Define-data-preparation-functions-3.1\"><span class=\"toc-item-num\">3.1&nbsp;&nbsp;</span>Define data preparation functions</a></span></li><li><span><a href=\"#Create-note:int-mapping\" data-toc-modified-id=\"Create-note:int-mapping-3.2\"><span class=\"toc-item-num\">3.2&nbsp;&nbsp;</span>Create note:int mapping</a></span></li><li><span><a href=\"#Create-input-sequences-and-corresponding-outputs\" data-toc-modified-id=\"Create-input-sequences-and-corresponding-outputs-3.3\"><span class=\"toc-item-num\">3.3&nbsp;&nbsp;</span>Create input sequences and corresponding outputs</a></span></li><li><span><a href=\"#Transform-input-and-output\" data-toc-modified-id=\"Transform-input-and-output-3.4\"><span class=\"toc-item-num\">3.4&nbsp;&nbsp;</span>Transform input and output</a></span></li></ul></li><li><span><a href=\"#Create-the-model\" data-toc-modified-id=\"Create-the-model-4\"><span class=\"toc-item-num\">4&nbsp;&nbsp;</span>Create the model</a></span></li><li><span><a href=\"#Train-the-model\" data-toc-modified-id=\"Train-the-model-5\"><span class=\"toc-item-num\">5&nbsp;&nbsp;</span>Train the model</a></span><ul class=\"toc-item\"><li><span><a href=\"#Create-model-checkpoint\" data-toc-modified-id=\"Create-model-checkpoint-5.1\"><span class=\"toc-item-num\">5.1&nbsp;&nbsp;</span>Create model checkpoint</a></span></li><li><span><a href=\"#Fit-the-model\" data-toc-modified-id=\"Fit-the-model-5.2\"><span class=\"toc-item-num\">5.2&nbsp;&nbsp;</span>Fit the model</a></span></li></ul></li><li><span><a href=\"#Predict\" data-toc-modified-id=\"Predict-6\"><span class=\"toc-item-num\">6&nbsp;&nbsp;</span>Predict</a></span><ul class=\"toc-item\"><li><span><a href=\"#Define-predict-function\" data-toc-modified-id=\"Define-predict-function-6.1\"><span class=\"toc-item-num\">6.1&nbsp;&nbsp;</span>Define predict function</a></span></li><li><span><a href=\"#Create-int:note-mapping\" data-toc-modified-id=\"Create-int:note-mapping-6.2\"><span class=\"toc-item-num\">6.2&nbsp;&nbsp;</span>Create int:note mapping</a></span></li><li><span><a href=\"#Predict-notes-from-random-start-pattern\" data-toc-modified-id=\"Predict-notes-from-random-start-pattern-6.3\"><span class=\"toc-item-num\">6.3&nbsp;&nbsp;</span>Predict notes from random start pattern</a></span></li></ul></li><li><span><a href=\"#Save-output\" data-toc-modified-id=\"Save-output-7\"><span class=\"toc-item-num\">7&nbsp;&nbsp;</span>Save output</a></span><ul class=\"toc-item\"><li><span><a href=\"#Define-MIDI-output-functions\" data-toc-modified-id=\"Define-MIDI-output-functions-7.1\"><span class=\"toc-item-num\">7.1&nbsp;&nbsp;</span>Define MIDI output functions</a></span></li><li><span><a href=\"#Create-MIDI-file-from-predicted-output\" data-toc-modified-id=\"Create-MIDI-file-from-predicted-output-7.2\"><span class=\"toc-item-num\">7.2&nbsp;&nbsp;</span>Create MIDI file from predicted output</a></span></li></ul></li></ul></div>"
   ]
  },
  {
   "cell_type": "markdown",
   "metadata": {},
   "source": [
    "# MIDI Generation with Keras\n",
    "\n",
    "The code below creates an LSTM RNN, and creates a model using various midi files as training data. The model generated is then used to produce some tunes... hopefully."
   ]
  },
  {
   "cell_type": "markdown",
   "metadata": {},
   "source": [
    "## Specify imports and paths"
   ]
  },
  {
   "cell_type": "code",
   "execution_count": 157,
   "metadata": {},
   "outputs": [],
   "source": [
    "import pickle\n",
    "from datetime import datetime\n",
    "from pathlib import Path\n",
    "from random import randint\n",
    "from typing import Tuple\n",
    "\n",
    "import numpy as np\n",
    "from music21.chord import Chord\n",
    "from music21.converter import parse\n",
    "from music21.instrument import partitionByInstrument, Piano\n",
    "from music21.note import Note\n",
    "from music21.stream import Score, Stream\n",
    "from music21.stream.iterator import RecursiveIterator\n",
    "from tensorflow.keras.callbacks import ModelCheckpoint\n",
    "from tensorflow.keras.layers import Activation, Dense, Dropout, LSTM\n",
    "from tensorflow.keras.models import Sequential\n",
    "from tensorflow.keras.utils import to_categorical\n",
    "from tqdm import tqdm\n",
    "\n",
    "\n",
    "project_folder = Path('/home/tony/repos/rnn_midi_generator')\n",
    "checkpoints_folder = project_folder / 'checkpoints'\n",
    "data_folder = project_folder / 'data'\n",
    "input_folder = project_folder / 'input'\n",
    "output_folder = project_folder / 'output'"
   ]
  },
  {
   "cell_type": "markdown",
   "metadata": {},
   "source": [
    "## Gather training data"
   ]
  },
  {
   "cell_type": "markdown",
   "metadata": {},
   "source": [
    "### Define MIDI parsing functions"
   ]
  },
  {
   "cell_type": "code",
   "execution_count": 158,
   "metadata": {},
   "outputs": [],
   "source": [
    "def get_notes_from_midi(midi: Score) -> RecursiveIterator:\n",
    "    \"\"\"\n",
    "    Extracts notes from a midi file.\n",
    "    \"\"\"\n",
    "    try:  # file has instrument parts\n",
    "        partitioned_midi = partitionByInstrument(midi)\n",
    "        return partitioned_midi.parts[0].recurse()\n",
    "    except:  # file has notes in a flat structure\n",
    "        return midi.flat.notes\n",
    "\n",
    "\n",
    "def parse_notes(notes_to_parse: list) -> list:\n",
    "    \"\"\"\n",
    "    Returns a list of the pitches of all the notes in the input.\n",
    "    Chords are split into constituent notes and the pitches of each \n",
    "    is added to the output.\n",
    "    \"\"\"\n",
    "    notes = []\n",
    "    for element in notes_to_parse:\n",
    "        if isinstance(element, Note):\n",
    "            notes.append(str(element.pitch))\n",
    "        elif isinstance(element, Chord):\n",
    "            # notes.append('.'.join(str(n) for n in element.normalOrder))\n",
    "            notes.extend([str(note.pitch) for note in element._notes])\n",
    "    return notes"
   ]
  },
  {
   "cell_type": "markdown",
   "metadata": {},
   "source": [
    "### Find and parse midi files"
   ]
  },
  {
   "cell_type": "code",
   "execution_count": 159,
   "metadata": {},
   "outputs": [
    {
     "name": "stdout",
     "output_type": "stream",
     "text": [
      "Number of midi files parsed: 17\n"
     ]
    }
   ],
   "source": [
    "number_of_files_parsed = 0\n",
    "notes = []\n",
    "\n",
    "for file in input_folder.glob('*.mid'):\n",
    "    midi = parse(file)\n",
    "    notes_to_parse = get_notes_from_midi(midi)\n",
    "    notes.extend(parse_notes(notes_to_parse))\n",
    "    number_of_files_parsed += 1\n",
    "\n",
    "print(f'Number of midi files parsed: {number_of_files_parsed}')"
   ]
  },
  {
   "cell_type": "markdown",
   "metadata": {},
   "source": [
    "### Pickle notes"
   ]
  },
  {
   "cell_type": "code",
   "execution_count": 160,
   "metadata": {},
   "outputs": [],
   "source": [
    "with open(data_folder / 'notes', 'wb') as filepath:\n",
    "    pickle.dump(notes, filepath)"
   ]
  },
  {
   "cell_type": "markdown",
   "metadata": {},
   "source": [
    "## Prepare training data"
   ]
  },
  {
   "cell_type": "markdown",
   "metadata": {
    "heading_collapsed": true
   },
   "source": [
    "### Define data preparation functions"
   ]
  },
  {
   "cell_type": "code",
   "execution_count": 24,
   "metadata": {
    "hidden": true
   },
   "outputs": [],
   "source": [
    "def prepare_input_and_output(data_length: int, sequence_length: int,\n",
    "                             data: list) -> Tuple[list, list]:\n",
    "    \"\"\"\n",
    "    Creates two output lists whose items correspond to the sequence \n",
    "    which is used for prediction and the predicted next integer \n",
    "    respectively.\n",
    "    \"\"\"\n",
    "    print(f'Data length: {data_length}')\n",
    "    print(f'Sequence length: {sequence_length}')\n",
    "\n",
    "    network_input = []\n",
    "    network_output = []\n",
    "\n",
    "    for i in range(data_length - sequence_length):\n",
    "        sequence_in = data[i:i + sequence_length]\n",
    "        sequence_out = data[i + sequence_length]\n",
    "        network_input.append(sequence_in)\n",
    "        network_output.append(sequence_out)\n",
    "\n",
    "    return network_input, network_output\n",
    "\n",
    "\n",
    "def reshape_and_normalize(input_data: list, num_possible_ints: int,\n",
    "                          sequence_length: int) -> np.ndarray:\n",
    "    \"\"\"\n",
    "    Reshapes and normalizes the input data according to the sequence\n",
    "    length and the number of possible integer values.\n",
    "    \"\"\"\n",
    "    reshaped = np.reshape(input_data, (len(input_data), sequence_length, 1))\n",
    "    normalized_and_reshaped = reshaped / float(num_possible_ints)\n",
    "\n",
    "    return normalized_and_reshaped"
   ]
  },
  {
   "cell_type": "markdown",
   "metadata": {
    "heading_collapsed": true
   },
   "source": [
    "### Create note:int mapping\n",
    "Create a dictionary mapping each note to an integer representing its position in an ordered list of all the notes."
   ]
  },
  {
   "cell_type": "code",
   "execution_count": 83,
   "metadata": {
    "hidden": true
   },
   "outputs": [],
   "source": [
    "sorted_possible_notes = sorted(set(notes))\n",
    "note_to_int = dict((note, i) for i, note in enumerate(sorted_possible_notes))"
   ]
  },
  {
   "cell_type": "markdown",
   "metadata": {
    "heading_collapsed": true
   },
   "source": [
    "### Create input sequences and corresponding outputs\n",
    "The notes are mapped to their integer representation for the neural network to be able to process them."
   ]
  },
  {
   "cell_type": "code",
   "execution_count": 100,
   "metadata": {
    "hidden": true
   },
   "outputs": [
    {
     "name": "stdout",
     "output_type": "stream",
     "text": [
      "Data length: 39846\n",
      "Sequence length: 30\n"
     ]
    }
   ],
   "source": [
    "sequence_length = 30\n",
    "notes_length = len(notes)\n",
    "notes_as_ints = [note_to_int[note] for note in notes]\n",
    "\n",
    "network_input, network_output = prepare_input_and_output(\n",
    "    data_length=notes_length,\n",
    "    sequence_length=sequence_length,\n",
    "    data=notes_as_ints,\n",
    ")"
   ]
  },
  {
   "cell_type": "markdown",
   "metadata": {
    "heading_collapsed": true
   },
   "source": [
    "### Transform input and output\n",
    "Reshape the `network_input` into a format compatible with LSTM layers and normalize. One-hot encode the `network_output`."
   ]
  },
  {
   "cell_type": "code",
   "execution_count": 28,
   "metadata": {
    "hidden": true
   },
   "outputs": [
    {
     "name": "stdout",
     "output_type": "stream",
     "text": [
      "Number of unique notes: 70\n"
     ]
    }
   ],
   "source": [
    "num_possible_notes = len(sorted_possible_notes)\n",
    "print(f'Number of unique notes: {num_possible_notes}')\n",
    "\n",
    "normalized_network_input = reshape_and_normalize(\n",
    "    network_input, num_possible_notes, sequence_length)\n",
    "network_output = to_categorical(network_output)"
   ]
  },
  {
   "cell_type": "markdown",
   "metadata": {},
   "source": [
    "## Create the model"
   ]
  },
  {
   "cell_type": "markdown",
   "metadata": {},
   "source": [
    "Make a sequential model with several LSTM layers, 2 dense layers, ...\n",
    "\n",
    "LSTM is used as the data is time-dependent."
   ]
  },
  {
   "cell_type": "code",
   "execution_count": 30,
   "metadata": {},
   "outputs": [
    {
     "name": "stdout",
     "output_type": "stream",
     "text": [
      "_________________________________________________________________\n",
      "Layer (type)                 Output Shape              Param #   \n",
      "=================================================================\n",
      "lstm_3 (LSTM)                (None, 30, 512)           1052672   \n",
      "_________________________________________________________________\n",
      "dropout_3 (Dropout)          (None, 30, 512)           0         \n",
      "_________________________________________________________________\n",
      "lstm_4 (LSTM)                (None, 30, 512)           2099200   \n",
      "_________________________________________________________________\n",
      "dropout_4 (Dropout)          (None, 30, 512)           0         \n",
      "_________________________________________________________________\n",
      "lstm_5 (LSTM)                (None, 512)               2099200   \n",
      "_________________________________________________________________\n",
      "dense_1 (Dense)              (None, 256)               131328    \n",
      "_________________________________________________________________\n",
      "dropout_5 (Dropout)          (None, 256)               0         \n",
      "_________________________________________________________________\n",
      "dense_2 (Dense)              (None, 70)                17990     \n",
      "_________________________________________________________________\n",
      "activation (Activation)      (None, 70)                0         \n",
      "=================================================================\n",
      "Total params: 5,400,390\n",
      "Trainable params: 5,400,390\n",
      "Non-trainable params: 0\n",
      "_________________________________________________________________\n",
      "None\n"
     ]
    }
   ],
   "source": [
    "model = Sequential()\n",
    "model.add(LSTM(512,\n",
    "               input_shape=(normalized_network_input.shape[1],\n",
    "                            normalized_network_input.shape[2]),\n",
    "               return_sequences=True))\n",
    "model.add(Dropout(0.3))\n",
    "model.add(LSTM(512, return_sequences=True))\n",
    "model.add(Dropout(0.3))\n",
    "model.add(LSTM(512))\n",
    "model.add(Dense(256))\n",
    "model.add(Dropout(0.3))\n",
    "model.add(Dense(num_possible_notes))\n",
    "model.add(Activation('softmax'))\n",
    "model.compile(loss='categorical_crossentropy', optimizer='rmsprop')\n",
    "\n",
    "print(model.summary())"
   ]
  },
  {
   "cell_type": "markdown",
   "metadata": {},
   "source": [
    "## Train the model\n",
    "\n",
    "This might take a while..."
   ]
  },
  {
   "cell_type": "markdown",
   "metadata": {},
   "source": [
    "### Create model checkpoint"
   ]
  },
  {
   "cell_type": "code",
   "execution_count": 164,
   "metadata": {},
   "outputs": [],
   "source": [
    "timestamp = datetime.now().strftime('%Y-%m-%d_%H:%M:%S')\n",
    "model_name_template_string = timestamp + 'model_{epoch:02d}.hdf5'\n",
    "checkpoint_filepath = checkpoints_folder / model_name_template_string\n",
    "\n",
    "checkpoint = ModelCheckpoint(\n",
    "    checkpoint_filepath.as_posix(),\n",
    "    monitor='loss',\n",
    "    verbose=0,\n",
    "    save_best_only=True,\n",
    "    mode='min',\n",
    ")\n",
    "\n",
    "callbacks_list = [checkpoint]"
   ]
  },
  {
   "cell_type": "markdown",
   "metadata": {},
   "source": [
    "### Fit the model"
   ]
  },
  {
   "cell_type": "code",
   "execution_count": 32,
   "metadata": {},
   "outputs": [
    {
     "name": "stdout",
     "output_type": "stream",
     "text": [
      "Epoch 1/10\n",
      "39816/39816 [==============================] - 1786s 45ms/step - loss: 3.7720\n",
      "Epoch 2/10\n",
      "39816/39816 [==============================] - 1764s 44ms/step - loss: 3.6208\n",
      "Epoch 3/10\n",
      "39816/39816 [==============================] - 1786s 45ms/step - loss: 3.5267\n",
      "Epoch 4/10\n",
      "39816/39816 [==============================] - 1784s 45ms/step - loss: 3.4116\n",
      "Epoch 5/10\n",
      "39816/39816 [==============================] - 2566s 64ms/step - loss: 3.2544\n",
      "Epoch 6/10\n",
      "39816/39816 [==============================] - 2227s 56ms/step - loss: 3.0563\n",
      "Epoch 7/10\n",
      "39816/39816 [==============================] - 2042s 51ms/step - loss: 2.8249\n",
      "Epoch 8/10\n",
      "39816/39816 [==============================] - 2082s 52ms/step - loss: 2.5681\n",
      "Epoch 9/10\n",
      "39816/39816 [==============================] - 1723s 43ms/step - loss: 2.3027\n",
      "Epoch 10/10\n",
      "39816/39816 [==============================] - 1718s 43ms/step - loss: 2.0364\n"
     ]
    },
    {
     "data": {
      "text/plain": [
       "<tensorflow.python.keras.callbacks.History at 0x7f2b93f6b860>"
      ]
     },
     "execution_count": 32,
     "metadata": {},
     "output_type": "execute_result"
    }
   ],
   "source": [
    "model.fit(\n",
    "    normalized_network_input,\n",
    "    network_output,\n",
    "    batch_size=64,\n",
    "    epochs=10,\n",
    "    callbacks=callbacks_list,\n",
    ")"
   ]
  },
  {
   "cell_type": "markdown",
   "metadata": {},
   "source": [
    "## Predict"
   ]
  },
  {
   "cell_type": "markdown",
   "metadata": {},
   "source": [
    "### Define predict function"
   ]
  },
  {
   "cell_type": "code",
   "execution_count": 150,
   "metadata": {},
   "outputs": [],
   "source": [
    "def predict(model: Sequential, pattern: list, num_possible_values: int,\n",
    "            num_predictions: int, output: list = []) -> list:\n",
    "    \"\"\"\n",
    "    Recursively predict new values based on the given model and starting\n",
    "    pattern.\n",
    "    \"\"\"\n",
    "    if num_predictions == 0:\n",
    "        return output\n",
    "\n",
    "    prediction_input = np.reshape(pattern, (1, len(pattern), 1))\n",
    "    prediction_input = prediction_input / float(num_possible_values)\n",
    "    predicted_note = model.predict(prediction_input)\n",
    "    note_as_int = np.argmax(predicted_note)\n",
    "    output.append(note_as_int)\n",
    "    pattern.append(note_as_int)\n",
    "    pattern = pattern[1:]\n",
    "\n",
    "    return predict(\n",
    "        model, pattern, num_possible_values, num_predictions - 1, output,\n",
    "    )"
   ]
  },
  {
   "cell_type": "markdown",
   "metadata": {},
   "source": [
    "### Create int:note mapping"
   ]
  },
  {
   "cell_type": "code",
   "execution_count": 151,
   "metadata": {},
   "outputs": [],
   "source": [
    "int_to_note = dict((v, k) for k, v in note_to_int.items())"
   ]
  },
  {
   "cell_type": "markdown",
   "metadata": {},
   "source": [
    "### Predict notes from random start pattern"
   ]
  },
  {
   "cell_type": "code",
   "execution_count": null,
   "metadata": {},
   "outputs": [],
   "source": [
    "start = randint(0, len(network_input) - 1)\n",
    "pattern = network_input[start]\n",
    "num_predicted_notes = 100\n",
    "prediction_output = predict(\n",
    "    model,\n",
    "    pattern,\n",
    "    num_possible_notes,\n",
    "    num_predicted_notes,\n",
    ")\n",
    "\n",
    "predicted_notes = [int_to_note[_int] for _int in prediction_output]\n",
    "print(f'Number of notes predicted: {num_predicted_notes}')\n",
    "print(f'First 20 predicted notes: {predicted_notes[:20]}')"
   ]
  },
  {
   "cell_type": "markdown",
   "metadata": {},
   "source": [
    "## Save output "
   ]
  },
  {
   "cell_type": "markdown",
   "metadata": {},
   "source": [
    "### Define MIDI output functions"
   ]
  },
  {
   "cell_type": "code",
   "execution_count": 165,
   "metadata": {},
   "outputs": [],
   "source": [
    "def convert_to_midi_note(note: str, offset: int) -> Note:\n",
    "    \"\"\"\n",
    "    Convert a pitch string to a music21.note.Note object with the\n",
    "    given offset. The note will be played by the piano.\n",
    "    \"\"\"\n",
    "    new_note = Note(note)\n",
    "    new_note.offset = offset\n",
    "    new_note.storedInstrument = Piano()\n",
    "\n",
    "    return new_note"
   ]
  },
  {
   "cell_type": "markdown",
   "metadata": {},
   "source": [
    "### Create MIDI file from predicted output"
   ]
  },
  {
   "cell_type": "code",
   "execution_count": 166,
   "metadata": {},
   "outputs": [
    {
     "data": {
      "text/plain": [
       "PosixPath('/home/tony/repos/rnn_midi_generator/output/2018-12-29_13:38:30.mid')"
      ]
     },
     "execution_count": 166,
     "metadata": {},
     "output_type": "execute_result"
    }
   ],
   "source": [
    "offset = 0\n",
    "midi_notes = []\n",
    "\n",
    "for note in predicted_notes:\n",
    "    midi_notes.append(convert_to_midi_note(note, offset))\n",
    "    offset += 0.5\n",
    "\n",
    "timestamp = datetime.now().strftime('%Y-%m-%d_%H:%M:%S')\n",
    "midi_stream = Stream(midi_notes)\n",
    "midi_stream.write('midi', fp=output_folder / f'{timestamp}.mid')"
   ]
  },
  {
   "cell_type": "code",
   "execution_count": null,
   "metadata": {},
   "outputs": [],
   "source": []
  }
 ],
 "metadata": {
  "kernelspec": {
   "display_name": "music_gen",
   "language": "python",
   "name": "music_gen"
  },
  "language_info": {
   "codemirror_mode": {
    "name": "ipython",
    "version": 3
   },
   "file_extension": ".py",
   "mimetype": "text/x-python",
   "name": "python",
   "nbconvert_exporter": "python",
   "pygments_lexer": "ipython3",
   "version": "3.6.7"
  },
  "toc": {
   "base_numbering": 1,
   "nav_menu": {},
   "number_sections": true,
   "sideBar": true,
   "skip_h1_title": true,
   "title_cell": "Table of Contents",
   "title_sidebar": "Contents",
   "toc_cell": true,
   "toc_position": {
    "height": "468px",
    "left": "1024px",
    "top": "172px",
    "width": "256px"
   },
   "toc_section_display": true,
   "toc_window_display": false
  }
 },
 "nbformat": 4,
 "nbformat_minor": 2
}
